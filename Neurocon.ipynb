{
  "cells": [
    {
      "cell_type": "code",
      "source": [
        "!pip install nilearn\n",
        "!pip install nibabel"
      ],
      "metadata": {
        "id": "CXhu7TxN0eAo"
      },
      "id": "CXhu7TxN0eAo",
      "execution_count": null,
      "outputs": []
    },
    {
      "cell_type": "code",
      "source": [
        "from google.colab import drive\n",
        "drive.mount('/content/drive')"
      ],
      "metadata": {
        "colab": {
          "base_uri": "https://localhost:8080/"
        },
        "id": "4YQyolYPlUyV",
        "outputId": "e5ddb5a1-ea71-460d-bd83-83fd8a157c63"
      },
      "id": "4YQyolYPlUyV",
      "execution_count": 1,
      "outputs": [
        {
          "output_type": "stream",
          "name": "stdout",
          "text": [
            "Mounted at /content/drive\n"
          ]
        }
      ]
    },
    {
      "cell_type": "code",
      "source": [
        "from nilearn.maskers import nifti_labels_masker\n",
        "import matplotlib.pyplot as plt\n",
        "import nibabel as nib\n",
        "from nilearn import plotting as nlp\n",
        "import pandas as pd\n",
        "import seaborn as sns\n",
        "import numpy as np\n",
        "import matplotlib.pyplot as plt\n",
        "from sklearn.model_selection import train_test_split\n",
        "import tensorflow as tf\n",
        "from sklearn.metrics import accuracy_score, precision_score, recall_score, f1_score, confusion_matrix\n",
        "from math import ceil\n"
      ],
      "metadata": {
        "id": "6GoR3UNb1TFB"
      },
      "id": "6GoR3UNb1TFB",
      "execution_count": 1,
      "outputs": []
    },
    {
      "cell_type": "code",
      "execution_count": 2,
      "id": "f6253d18-a381-4c91-a344-567d0c110d40",
      "metadata": {
        "colab": {
          "base_uri": "https://localhost:8080/"
        },
        "id": "f6253d18-a381-4c91-a344-567d0c110d40",
        "outputId": "104293c1-3a88-4767-a750-f5cff036ca7a"
      },
      "outputs": [
        {
          "output_type": "stream",
          "name": "stdout",
          "text": [
            "Archivos control encontrados: 16\n",
            "Archivos parkinson encontrados: 27\n",
            "Archivos control para entrenamiento: 9\n",
            "Archivos control para test: 7\n",
            "Archivos parkinson para entrenamiento: 16\n",
            "Archivos parkinson para test: 11\n"
          ]
        }
      ],
      "source": [
        "import os\n",
        "import fnmatch\n",
        "\n",
        "def buscar_archivos_nii_gz(directorio, cadena):\n",
        "    archivos_con_cadena = []\n",
        "\n",
        "    # Recorrer todos los directorios y archivos en el directorio dado\n",
        "    for raiz, carpetas, archivos in os.walk(directorio):\n",
        "        for archivo in fnmatch.filter(archivos, '*' + cadena + '*'):\n",
        "            ruta_completa = os.path.join(raiz, archivo)\n",
        "            archivos_con_cadena.append(ruta_completa)\n",
        "\n",
        "    return archivos_con_cadena\n",
        "\n",
        "# Ejemplo de uso\n",
        "directorio_a_buscar_control = '/content/drive/MyDrive/neurocon/data/preprocessed/control'\n",
        "directorio_a_buscar_parkinson = '/content/drive/MyDrive/neurocon/data/preprocessed/parkinson'\n",
        "cadena_a_buscar = 'brain_mask_applied.nii.gz'\n",
        "control = buscar_archivos_nii_gz(directorio_a_buscar_control, cadena_a_buscar)\n",
        "parkinson = buscar_archivos_nii_gz(directorio_a_buscar_parkinson, cadena_a_buscar)\n",
        "\n",
        "\n",
        "# Imprimir la lista de archivos encontrados\n",
        "print(\"Archivos control encontrados:\", len(control))\n",
        "print(\"Archivos parkinson encontrados:\", len(parkinson))\n",
        "\n",
        "control_train, control_test = train_test_split(control, test_size=0.4, random_state=1)\n",
        "parkinson_train, parkinson_test = train_test_split(parkinson, test_size=0.4, random_state=1)\n",
        "\n",
        "# Imprimir la lista de archivos encontrados y divididos\n",
        "\n",
        "print(\"Archivos control para entrenamiento:\", len(control_train))\n",
        "print(\"Archivos control para test:\", len(control_test))\n",
        "print(\"Archivos parkinson para entrenamiento:\", len(parkinson_train))\n",
        "print(\"Archivos parkinson para test:\", len(parkinson_test))"
      ]
    },
    {
      "cell_type": "markdown",
      "source": [
        "#Si se tiene suficiente memoria ram se puede hacer con:"
      ],
      "metadata": {
        "id": "Z-ZBKnG7M9i9"
      },
      "id": "Z-ZBKnG7M9i9"
    },
    {
      "cell_type": "code",
      "execution_count": null,
      "id": "138ea1fa-bb2c-4b04-af34-92fb5b7be5d4",
      "metadata": {
        "id": "138ea1fa-bb2c-4b04-af34-92fb5b7be5d4"
      },
      "outputs": [],
      "source": [
        "# Función para cargar las imágenes\n",
        "def cargar_imagenes(lista_rutas):\n",
        "    imagenes = []\n",
        "    for ruta in lista_rutas:\n",
        "        img = nib.load(ruta)\n",
        "        datos = img.get_fdata()\n",
        "        imagenes.append(datos)\n",
        "    return imagenes\n",
        "\n",
        "# Cargar las imágenes para el grupo \"parkinson\"\n",
        "imagenes_parkinson = cargar_imagenes(parkinson)\n",
        "etiquetas_parkinson = np.ones(len(imagenes_parkinson))  # Etiqueta 1 para \"parkinson\"\n",
        "\n",
        "# Cargar las imágenes para el grupo \"control\"\n",
        "imagenes_control = cargar_imagenes(control)\n",
        "etiquetas_control = np.zeros(len(imagenes_control))  # Etiqueta 0 para \"control\"\n",
        "\n",
        "# Combina los datos y etiquetas de ambos grupos\n",
        "conjunto_datos = np.concatenate([imagenes_parkinson, imagenes_control])\n",
        "etiquetas = np.concatenate([etiquetas_parkinson, etiquetas_control])\n",
        "\n",
        "# Dividir el conjunto de datos en conjuntos de entrenamiento y prueba\n",
        "x_train, x_test, y_train, y_test = train_test_split(\n",
        "    conjunto_datos, etiquetas, test_size=0.2, random_state=42\n",
        ")\n",
        "\n",
        "x_train = x_train/255\n",
        "x_test = x_test/255\n"
      ]
    },
    {
      "cell_type": "code",
      "source": [
        "# Generador Keras para cargar y preprocesar imágenes bajo demanda\n",
        "from tensorflow.keras.utils import Sequence\n",
        "\n",
        "class DataGenerator(Sequence):\n",
        "    def __init__(self, lista_rutas_parkinson, lista_rutas_control, batch_size=4):\n",
        "        self.lista_rutas = lista_rutas_parkinson + lista_rutas_control\n",
        "        self.etiquetas = np.concatenate([np.full(len(lista_rutas_parkinson), 1), np.full(len(lista_rutas_control), 0)])\n",
        "        self.batch_size = batch_size\n",
        "\n",
        "    def __len__(self):\n",
        "        return int(np.ceil(len(self.lista_rutas) / self.batch_size))\n",
        "\n",
        "    def __getitem__(self, idx):\n",
        "        batch_rutas = self.lista_rutas[idx * self.batch_size:(idx + 1) * self.batch_size]\n",
        "        batch_etiquetas = self.etiquetas[idx * self.batch_size:(idx + 1) * self.batch_size]\n",
        "\n",
        "        # Manejo del final de los datos: vuelve a empezar desde el principio\n",
        "        if len(batch_rutas) < self.batch_size:\n",
        "            idx = 0\n",
        "            batch_rutas = self.lista_rutas[idx * self.batch_size:(idx + 1) * self.batch_size]\n",
        "            batch_etiquetas = self.etiquetas[idx * self.batch_size:(idx + 1) * self.batch_size]\n",
        "\n",
        "        batch_imagenes = [self.cargar_imagen(ruta) for ruta in batch_rutas]\n",
        "        return np.array(batch_imagenes), np.array(batch_etiquetas)\n",
        "\n",
        "\n",
        "    def cargar_imagen(self, ruta):\n",
        "        img = nib.load(ruta)\n",
        "        datos = img.get_fdata()\n",
        "        datos = datos / 255  # Normalización (puedes ajustar según necesites)\n",
        "        return datos\n",
        "\n",
        "modelo = tf.keras.models.Sequential()\n",
        "\n",
        "# Capa convolucional 3D 1\n",
        "modelo.add(tf.keras.layers.Conv2D(32, (3, 3), activation='relu', input_shape=(189, 233, 197)))\n",
        "modelo.add(tf.keras.layers.BatchNormalization())\n",
        "modelo.add(tf.keras.layers.MaxPooling2D((2, 2), padding= 'same'))\n",
        "modelo.add(tf.keras.layers.Dropout(0.25))  # Capa de Dropout\n",
        "\n",
        "# Capa convolucional 3D 2\n",
        "modelo.add(tf.keras.layers.Conv2D(64, (3, 3), activation='relu'))\n",
        "modelo.add(tf.keras.layers.BatchNormalization())\n",
        "modelo.add(tf.keras.layers.MaxPooling2D((2, 2), padding= 'same'))\n",
        "modelo.add(tf.keras.layers.Dropout(0.25))\n",
        "\n",
        "# Capa convolucional 3D 3\n",
        "modelo.add(tf.keras.layers.Conv2D(128, (3, 3), activation='relu'))\n",
        "modelo.add(tf.keras.layers.BatchNormalization())\n",
        "modelo.add(tf.keras.layers.MaxPooling2D((2, 2), padding= 'same'))\n",
        "modelo.add(tf.keras.layers.Dropout(0.25))\n",
        "\n",
        "# Capa convolucional 3D 4\n",
        "modelo.add(tf.keras.layers.Conv2D(256, (3, 3), activation='relu'))\n",
        "modelo.add(tf.keras.layers.BatchNormalization())\n",
        "modelo.add(tf.keras.layers.MaxPooling2D((2, 2), padding= 'same'))\n",
        "modelo.add(tf.keras.layers.Dropout(0.25))\n",
        "\n",
        "# Aplanar los datos para la capa densa\n",
        "modelo.add(tf.keras.layers.Flatten())\n",
        "\n",
        "# Capa densa 1\n",
        "modelo.add(tf.keras.layers.Dense(512, activation='relu'))\n",
        "modelo.add(tf.keras.layers.BatchNormalization())\n",
        "modelo.add(tf.keras.layers.Dropout(0.25))\n",
        "\n",
        "# Capa de salida\n",
        "modelo.add(tf.keras.layers.Dense(1, activation='softmax'))\n",
        "\n",
        "# Resumen del modelo\n",
        "modelo.summary()\n",
        "\n",
        "# Crear instancias de generadores para \"parkinson\" y \"control\"\n",
        "generador_combinado_train = DataGenerator(parkinson_train, control_train)\n",
        "generador_combinado_test = DataGenerator(parkinson_test, control_test)\n",
        "\n",
        "batch_size = 4\n",
        "\n",
        "step_por_epoch = ceil((len(parkinson_train) + len(control_train)) / batch_size)\n",
        "validation_steps = ceil((len(parkinson_test) + len(control_test)) /batch_size)\n",
        "# Early Stopping\n",
        "early_stopping = tf.keras.callbacks.EarlyStopping(monitor='val_loss', patience=4, restore_best_weights=True)\n",
        "\n",
        "# Compilar el modelo\n",
        "opt = tf.keras.optimizers.Adamax()\n",
        "\n",
        "modelo.compile(optimizer=opt, loss='binary_crossentropy', metrics=['accuracy'])\n",
        "\n",
        "history = modelo.fit(generador_combinado_train, steps_per_epoch=step_por_epoch, epochs=20, verbose=1, callbacks=[early_stopping],\n",
        "                     validation_data=generador_combinado_test, validation_steps=validation_steps)\n",
        "\n",
        "# Gráficos\n",
        "fig = plt.figure(figsize=(10, 5))\n",
        "\n",
        "# Gráfico de Accuracy\n",
        "ax = fig.add_subplot(1, 2, 1)\n",
        "ax.plot(history.history['accuracy'], label='Train Accuracy')\n",
        "ax.plot(history.history['val_accuracy'], label='Validation Accuracy')\n",
        "ax.set_xlabel('Epochs')\n",
        "ax.set_ylabel('Accuracy')\n",
        "ax.set_ylim([0, 1])  # Establecer límites en el eje y de 0 a 100\n",
        "ax.legend()\n",
        "\n",
        "# Gráfico de Loss\n",
        "ax = fig.add_subplot(1, 2, 2)\n",
        "ax.plot(history.history['loss'], label='Train Loss')\n",
        "ax.plot(history.history['val_loss'], label='Validation Loss')\n",
        "ax.set_xlabel('Epochs')\n",
        "ax.set_ylabel('Loss')\n",
        "ax.legend()\n",
        "\n",
        "plt.show()\n",
        "\n",
        "print(\"Accuracy train\",np.mean(history.history['accuracy']))\n",
        "print(\"Accuracy de validacion:\",np.mean(history.history['val_accuracy']))\n"
      ],
      "metadata": {
        "id": "s6lB8-VptdzN"
      },
      "id": "s6lB8-VptdzN",
      "execution_count": null,
      "outputs": []
    },
    {
      "cell_type": "markdown",
      "source": [
        "#Hacer el testeo"
      ],
      "metadata": {
        "id": "GpdMb39q0UAA"
      },
      "id": "GpdMb39q0UAA"
    },
    {
      "cell_type": "code",
      "source": [
        "# Función para cargar las imágenes\n",
        "def cargar_imagenes(lista_rutas):\n",
        "    imagenes = []\n",
        "    for ruta in lista_rutas:\n",
        "        img = nib.load(ruta)\n",
        "        datos = img.get_fdata() / 255\n",
        "        imagenes.append(datos)\n",
        "    return imagenes\n",
        "\n",
        "# Cargar las imágenes para el grupo \"parkinson\"\n",
        "imagenes_parkinson = cargar_imagenes(parkinson_test)\n",
        "etiquetas_parkinson = np.ones(len(imagenes_parkinson))  # Etiqueta 1 para \"parkinson\"\n",
        "\n",
        "# Cargar las imágenes para el grupo \"control\"\n",
        "imagenes_control = cargar_imagenes(control_test)\n",
        "etiquetas_control = np.zeros(len(imagenes_control))  # Etiqueta 0 para \"control\"\n",
        "\n",
        "# Combina los datos y etiquetas de ambos grupos\n",
        "conjunto_datos = np.concatenate([imagenes_parkinson, imagenes_control])\n",
        "etiquetas = np.concatenate([etiquetas_parkinson, etiquetas_control])"
      ],
      "metadata": {
        "id": "V7v0M7kHu-9h"
      },
      "id": "V7v0M7kHu-9h",
      "execution_count": 11,
      "outputs": []
    },
    {
      "cell_type": "code",
      "source": [
        "from sklearn.metrics import accuracy_score, precision_score, recall_score, f1_score, confusion_matrix\n",
        "\n",
        "y_pred = modelo.predict(conjunto_datos)\n",
        "\n",
        "# Calcular y mostrar métricas\n",
        "accuracy = accuracy_score(etiquetas, y_pred)\n",
        "precision = precision_score(etiquetas, y_pred)\n",
        "recall = recall_score(etiquetas, y_pred)\n",
        "f1 = f1_score(etiquetas, y_pred)\n",
        "conf_matrix = confusion_matrix(etiquetas, y_pred)\n",
        "\n",
        "print(f\"Accuracy: {accuracy}\")\n",
        "print(f\"Precision: {precision}\")\n",
        "print(f\"Recall: {recall}\")\n",
        "print(f\"F1 Score: {f1}\")\n",
        "print(\"Confusion Matrix:\")\n",
        "# Crear un mapa de calor de la matriz de confusión\n",
        "plt.figure(figsize=(8, 8))\n",
        "sns.set(font_scale=1.2)\n",
        "sns.heatmap(conf_matrix, annot=True, fmt='d', cmap='Blues')\n",
        "plt.xlabel('Predicted')\n",
        "plt.ylabel('True')\n",
        "plt.title('Confusion Matrix')\n",
        "plt.show()"
      ],
      "metadata": {
        "id": "uCFXK9V3wIoi"
      },
      "id": "uCFXK9V3wIoi",
      "execution_count": null,
      "outputs": []
    },
    {
      "cell_type": "markdown",
      "source": [
        "#Un modelo usando Conv3D"
      ],
      "metadata": {
        "id": "UlzvE5_506Ie"
      },
      "id": "UlzvE5_506Ie"
    },
    {
      "cell_type": "code",
      "source": [
        "class DataGenerator(Sequence):\n",
        "    def __init__(self, lista_rutas_parkinson, lista_rutas_control, batch_size=4):\n",
        "        self.lista_rutas = lista_rutas_parkinson + lista_rutas_control\n",
        "        self.etiquetas = np.concatenate([np.full(len(lista_rutas_parkinson), 1), np.full(len(lista_rutas_control), 0)])\n",
        "        self.batch_size = batch_size\n",
        "\n",
        "    def __len__(self):\n",
        "        return int(np.ceil(len(self.lista_rutas) / self.batch_size))\n",
        "\n",
        "    def __getitem__(self, idx):\n",
        "        batch_rutas = self.lista_rutas[idx * self.batch_size:(idx + 1) * self.batch_size]\n",
        "        batch_etiquetas = self.etiquetas[idx * self.batch_size:(idx + 1) * self.batch_size]\n",
        "\n",
        "        # Manejo del final de los datos: vuelve a empezar desde el principio\n",
        "        if len(batch_rutas) < self.batch_size:\n",
        "            idx = 0\n",
        "            batch_rutas = self.lista_rutas[idx * self.batch_size:(idx + 1) * self.batch_size]\n",
        "            batch_etiquetas = self.etiquetas[idx * self.batch_size:(idx + 1) * self.batch_size]\n",
        "\n",
        "        batch_imagenes = [self.cargar_imagen(ruta) for ruta in batch_rutas]\n",
        "        return np.array(batch_imagenes), np.array(batch_etiquetas)\n",
        "\n",
        "    def cargar_imagen(self, ruta):\n",
        "        img = nib.load(ruta)\n",
        "        datos = img.get_fdata()\n",
        "        datos = datos / 255  # Normalización (puedes ajustar según necesites)\n",
        "        # Añadir una dimensión para convertir a datos de 4D (batch_size, height, width, depth, channels)\n",
        "        return np.expand_dims(datos, axis=-1)\n",
        "\n",
        "modelo = tf.keras.models.Sequential()\n",
        "\n",
        "# Capa convolucional 3D 1\n",
        "modelo.add(tf.keras.layers.Conv3D(4, (3, 3, 3), activation='relu', input_shape=(189, 233, 197, 1)))\n",
        "modelo.add(tf.keras.layers.BatchNormalization())\n",
        "modelo.add(tf.keras.layers.MaxPooling3D((2, 2, 2), padding='same'))\n",
        "modelo.add(tf.keras.layers.Dropout(0.25))\n",
        "\n",
        "# Capa convolucional 3D 2\n",
        "modelo.add(tf.keras.layers.Conv3D(6, (3, 3, 3), activation='relu'))\n",
        "modelo.add(tf.keras.layers.BatchNormalization())\n",
        "modelo.add(tf.keras.layers.MaxPooling3D((2, 2, 2), padding='same'))\n",
        "modelo.add(tf.keras.layers.Dropout(0.25))\n",
        "\n",
        "# Capa convolucional 3D 3\n",
        "modelo.add(tf.keras.layers.Conv3D(8, (3, 3, 3), activation='relu'))\n",
        "modelo.add(tf.keras.layers.BatchNormalization())\n",
        "modelo.add(tf.keras.layers.MaxPooling3D((2, 2, 2), padding='same'))\n",
        "modelo.add(tf.keras.layers.Dropout(0.25))\n",
        "\n",
        "# Capa convolucional 3D 4\n",
        "modelo.add(tf.keras.layers.Conv3D(12, (3, 3, 3), activation='relu'))\n",
        "modelo.add(tf.keras.layers.BatchNormalization())\n",
        "modelo.add(tf.keras.layers.MaxPooling3D((2, 2, 2), padding='same'))\n",
        "modelo.add(tf.keras.layers.Dropout(0.25))\n",
        "\n",
        "# Aplanar los datos para la capa densa\n",
        "modelo.add(tf.keras.layers.Flatten())\n",
        "\n",
        "# Capa densa 1\n",
        "modelo.add(tf.keras.layers.Dense(512, activation='relu'))\n",
        "modelo.add(tf.keras.layers.BatchNormalization())\n",
        "modelo.add(tf.keras.layers.Dropout(0.25))\n",
        "\n",
        "# Capa de salida\n",
        "modelo.add(tf.keras.layers.Dense(1, activation='softmax'))\n",
        "\n",
        "# Resumen del modelo\n",
        "modelo.summary()\n",
        "\n",
        "# Crear instancias de generadores para \"parkinson\" y \"control\"\n",
        "generador_combinado_train = DataGenerator(parkinson_train, control_train)\n",
        "generador_combinado_test = DataGenerator(parkinson_test, control_test)\n",
        "\n",
        "batch_size = 4\n",
        "\n",
        "step_por_epoch = ceil((len(parkinson_train) + len(control_train)) / batch_size)\n",
        "validation_steps = ceil((len(parkinson_test) + len(control_test)) / batch_size)\n",
        "\n",
        "# Early Stopping\n",
        "early_stopping = tf.keras.callbacks.EarlyStopping(monitor='val_loss', patience=4, restore_best_weights=True)\n",
        "\n",
        "# Compilar el modelo\n",
        "opt = tf.keras.optimizers.Adamax()\n",
        "modelo.compile(optimizer=opt, loss='binary_crossentropy', metrics=['accuracy'])\n",
        "\n",
        "history = modelo.fit(generador_combinado_train, steps_per_epoch=step_por_epoch, epochs=20, verbose=1, callbacks=[early_stopping],\n",
        "                     validation_data=generador_combinado_test, validation_steps=validation_steps)\n",
        "\n",
        "# Gráficos\n",
        "fig = plt.figure(figsize=(10, 5))\n",
        "\n",
        "# Gráfico de Accuracy\n",
        "ax = fig.add_subplot(1, 2, 1)\n",
        "ax.plot(history.history['accuracy'], label='Train Accuracy')\n",
        "ax.plot(history.history['val_accuracy'], label='Validation Accuracy')\n",
        "ax.set_xlabel('Epochs')\n",
        "ax.set_ylabel('Accuracy')\n",
        "ax.set_ylim([0, 1])  # Establecer límites en el eje y de 0 a 1\n",
        "ax.legend()\n",
        "\n",
        "# Gráfico de Loss\n",
        "ax = fig.add_subplot(1, 2, 2)\n",
        "ax.plot(history.history['loss'], label='Train Loss')\n",
        "ax.plot(history.history['val_loss'], label='Validation Loss')\n",
        "ax.set_xlabel('Epochs')\n",
        "ax.set_ylabel('Loss')\n",
        "ax.legend()\n",
        "\n",
        "plt.show()\n",
        "\n",
        "print(\"Accuracy train\", np.mean(history.history['accuracy']))\n",
        "print(\"Accuracy de validación:\", np.mean(history.history['val_accuracy']))\n",
        "\n"
      ],
      "metadata": {
        "colab": {
          "base_uri": "https://localhost:8080/",
          "height": 1000
        },
        "id": "h_zj7lzF0jtK",
        "outputId": "0aa9e3d3-558c-4b1d-d7a6-92d4687b6220"
      },
      "id": "h_zj7lzF0jtK",
      "execution_count": 4,
      "outputs": [
        {
          "output_type": "stream",
          "name": "stdout",
          "text": [
            "Model: \"sequential_1\"\n",
            "_________________________________________________________________\n",
            " Layer (type)                Output Shape              Param #   \n",
            "=================================================================\n",
            " conv3d_4 (Conv3D)           (None, 187, 231, 195, 4   112       \n",
            "                             )                                   \n",
            "                                                                 \n",
            " batch_normalization_5 (Bat  (None, 187, 231, 195, 4   16        \n",
            " chNormalization)            )                                   \n",
            "                                                                 \n",
            " max_pooling3d_4 (MaxPoolin  (None, 94, 116, 98, 4)    0         \n",
            " g3D)                                                            \n",
            "                                                                 \n",
            " dropout_5 (Dropout)         (None, 94, 116, 98, 4)    0         \n",
            "                                                                 \n",
            " conv3d_5 (Conv3D)           (None, 92, 114, 96, 6)    654       \n",
            "                                                                 \n",
            " batch_normalization_6 (Bat  (None, 92, 114, 96, 6)    24        \n",
            " chNormalization)                                                \n",
            "                                                                 \n",
            " max_pooling3d_5 (MaxPoolin  (None, 46, 57, 48, 6)     0         \n",
            " g3D)                                                            \n",
            "                                                                 \n",
            " dropout_6 (Dropout)         (None, 46, 57, 48, 6)     0         \n",
            "                                                                 \n",
            " conv3d_6 (Conv3D)           (None, 44, 55, 46, 8)     1304      \n",
            "                                                                 \n",
            " batch_normalization_7 (Bat  (None, 44, 55, 46, 8)     32        \n",
            " chNormalization)                                                \n",
            "                                                                 \n",
            " max_pooling3d_6 (MaxPoolin  (None, 22, 28, 23, 8)     0         \n",
            " g3D)                                                            \n",
            "                                                                 \n",
            " dropout_7 (Dropout)         (None, 22, 28, 23, 8)     0         \n",
            "                                                                 \n",
            " conv3d_7 (Conv3D)           (None, 20, 26, 21, 12)    2604      \n",
            "                                                                 \n",
            " batch_normalization_8 (Bat  (None, 20, 26, 21, 12)    48        \n",
            " chNormalization)                                                \n",
            "                                                                 \n",
            " max_pooling3d_7 (MaxPoolin  (None, 10, 13, 11, 12)    0         \n",
            " g3D)                                                            \n",
            "                                                                 \n",
            " dropout_8 (Dropout)         (None, 10, 13, 11, 12)    0         \n",
            "                                                                 \n",
            " flatten_1 (Flatten)         (None, 17160)             0         \n",
            "                                                                 \n",
            " dense_2 (Dense)             (None, 512)               8786432   \n",
            "                                                                 \n",
            " batch_normalization_9 (Bat  (None, 512)               2048      \n",
            " chNormalization)                                                \n",
            "                                                                 \n",
            " dropout_9 (Dropout)         (None, 512)               0         \n",
            "                                                                 \n",
            " dense_3 (Dense)             (None, 1)                 513       \n",
            "                                                                 \n",
            "=================================================================\n",
            "Total params: 8793787 (33.55 MB)\n",
            "Trainable params: 8792703 (33.54 MB)\n",
            "Non-trainable params: 1084 (4.23 KB)\n",
            "_________________________________________________________________\n",
            "Epoch 1/20\n",
            "7/7 [==============================] - 32s 3s/step - loss: 0.9256 - accuracy: 0.4286 - val_loss: 0.5709 - val_accuracy: 0.7500\n",
            "Epoch 2/20\n",
            "7/7 [==============================] - 16s 2s/step - loss: 0.9403 - accuracy: 0.4643 - val_loss: 0.6749 - val_accuracy: 0.7500\n",
            "Epoch 3/20\n",
            "7/7 [==============================] - 16s 2s/step - loss: 1.0932 - accuracy: 0.5000 - val_loss: 0.8170 - val_accuracy: 0.7500\n",
            "Epoch 4/20\n",
            "7/7 [==============================] - 17s 3s/step - loss: 0.9026 - accuracy: 0.4643 - val_loss: 0.8412 - val_accuracy: 0.7500\n",
            "Epoch 5/20\n",
            "7/7 [==============================] - 21s 3s/step - loss: 0.8596 - accuracy: 0.5357 - val_loss: 0.8684 - val_accuracy: 0.7500\n"
          ]
        },
        {
          "output_type": "display_data",
          "data": {
            "text/plain": [
              "<Figure size 1000x500 with 2 Axes>"
            ],
            "image/png": "[encoded data removed]"
          },
          "metadata": {}
        },
        {
          "output_type": "stream",
          "name": "stdout",
          "text": [
            "Accuracy train 0.4785714209079742\n",
            "Accuracy de validación: 0.75\n"
          ]
        }
      ]
    },
    {
      "cell_type": "markdown",
      "source": [
        "#Hacer testeo para Conv3D"
      ],
      "metadata": {
        "id": "3kEABNE329oo"
      },
      "id": "3kEABNE329oo"
    },
    {
      "cell_type": "code",
      "source": [
        "# Función para cargar las imágenes\n",
        "def cargar_imagenes(lista_rutas):\n",
        "    imagenes = []\n",
        "    for ruta in lista_rutas:\n",
        "        img = nib.load(ruta)\n",
        "        datos = img.get_fdata() / 255\n",
        "        imagenes.append(datos)\n",
        "    return np.expand_dims(imagenes, axis=-1)\n",
        "\n",
        "# Cargar las imágenes para el grupo \"parkinson\"\n",
        "imagenes_parkinson = cargar_imagenes(parkinson_test)\n",
        "etiquetas_parkinson = np.ones(len(imagenes_parkinson))  # Etiqueta 1 para \"parkinson\"\n",
        "\n",
        "# Cargar las imágenes para el grupo \"control\"\n",
        "imagenes_control = cargar_imagenes(control_test)\n",
        "etiquetas_control = np.zeros(len(imagenes_control))  # Etiqueta 0 para \"control\"\n",
        "\n",
        "# Combina los datos y etiquetas de ambos grupos\n",
        "conjunto_datos = np.concatenate([imagenes_parkinson, imagenes_control])\n",
        "etiquetas = np.concatenate([etiquetas_parkinson, etiquetas_control])"
      ],
      "metadata": {
        "id": "KWwFOC532ya5"
      },
      "id": "KWwFOC532ya5",
      "execution_count": 5,
      "outputs": []
    },
    {
      "cell_type": "code",
      "source": [
        "from sklearn.metrics import accuracy_score, precision_score, recall_score, f1_score, confusion_matrix\n",
        "\n",
        "y_pred = modelo.predict(conjunto_datos)\n",
        "# Calcular y mostrar métricas\n",
        "accuracy = accuracy_score(etiquetas, y_pred)\n",
        "precision = precision_score(etiquetas, y_pred)\n",
        "recall = recall_score(etiquetas, y_pred)\n",
        "f1 = f1_score(etiquetas, y_pred)\n",
        "conf_matrix = confusion_matrix(etiquetas, y_pred)\n",
        "\n",
        "print(f\"Accuracy: {accuracy}\")\n",
        "print(f\"Precision: {precision}\")\n",
        "print(f\"Recall: {recall}\")\n",
        "print(f\"F1 Score: {f1}\")\n",
        "print(\"Confusion Matrix:\")\n",
        "# Crear un mapa de calor de la matriz de confusión\n",
        "plt.figure(figsize=(8, 8))\n",
        "sns.set(font_scale=1.2)\n",
        "sns.heatmap(conf_matrix, annot=True, fmt='d', cmap='Blues')\n",
        "plt.xlabel('Predicted')\n",
        "plt.ylabel('True')\n",
        "plt.title('Confusion Matrix')\n",
        "plt.show()"
      ],
      "metadata": {
        "colab": {
          "base_uri": "https://localhost:8080/",
          "height": 836
        },
        "id": "M0iQ1z-928MZ",
        "outputId": "ca7ddbd6-5d42-4d88-e89d-9b3979b938c0"
      },
      "id": "M0iQ1z-928MZ",
      "execution_count": 7,
      "outputs": [
        {
          "output_type": "stream",
          "name": "stdout",
          "text": [
            "1/1 [==============================] - 1s 754ms/step\n",
            "Accuracy: 0.6111111111111112\n",
            "Precision: 0.6111111111111112\n",
            "Recall: 1.0\n",
            "F1 Score: 0.7586206896551725\n",
            "Confusion Matrix:\n"
          ]
        },
        {
          "output_type": "display_data",
          "data": {
            "text/plain": [
              "<Figure size 800x800 with 2 Axes>"
            ],
            "image/png": "[encoded data removed]"
          },
          "metadata": {}
        }
      ]
    }
  ],
  "metadata": {
    "kernelspec": {
      "display_name": "Python 3",
      "name": "python3"
    },
    "language_info": {
      "codemirror_mode": {
        "name": "ipython",
        "version": 3
      },
      "file_extension": ".py",
      "mimetype": "text/x-python",
      "name": "python",
      "nbconvert_exporter": "python",
      "pygments_lexer": "ipython3",
      "version": "3.10.13"
    },
    "colab": {
      "provenance": [],
      "gpuType": "T4"
    },
    "accelerator": "GPU"
  },
  "nbformat": 4,
  "nbformat_minor": 5
}